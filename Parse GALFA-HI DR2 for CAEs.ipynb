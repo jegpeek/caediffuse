{
 "cells": [
  {
   "cell_type": "code",
   "execution_count": 41,
   "metadata": {
    "collapsed": false
   },
   "outputs": [],
   "source": [
    "import numpy as np\n",
    "import os,sys\n",
    "from scipy import misc\n",
    "%matplotlib inline\n",
    "from matplotlib import pyplot as plt"
   ]
  },
  {
   "cell_type": "markdown",
   "metadata": {},
   "source": [
    "OK, we need to read in some data. I wanted to get some data that look human-understandable, and crushed out a lot of the amplitude variation we see in the ISM. I am just going to use my \"promotional\" ISM images from GALFA-HI DR2 to start with."
   ]
  },
  {
   "cell_type": "code",
   "execution_count": 42,
   "metadata": {
    "collapsed": true
   },
   "outputs": [],
   "source": [
    "#Let's test reading a PNG\n",
    "whereami ='/Users/jegpeek/'\n",
    "path = 'Dropbox/Documents/batch/GALFA/DR2/testmovie/allsky/'\n",
    "file = 'allsky988.png'"
   ]
  },
  {
   "cell_type": "code",
   "execution_count": null,
   "metadata": {
    "collapsed": false
   },
   "outputs": [
    {
     "name": "stderr",
     "output_type": "stream",
     "text": [
      "/Users/jegpeek/anaconda3/lib/python3.5/site-packages/ipykernel/__main__.py:21: VisibleDeprecationWarning: using a non-integer number instead of an integer will result in an error in the future\n",
      "/Users/jegpeek/anaconda3/lib/python3.5/site-packages/ipykernel/__main__.py:30: VisibleDeprecationWarning: using a non-integer number instead of an integer will result in an error in the future\n"
     ]
    }
   ],
   "source": [
    "#read in all the data\n",
    "# I am going to break things down into 32x32s, but do an offset so we don't get exact match ups of the same features...\n",
    "xwid= 10800\n",
    "ywid = 1180\n",
    "\n",
    "dxy = 32.0\n",
    "\n",
    "nacross = np.floor(xwid/dxy)\n",
    "f1 = 970\n",
    "f2 = 1077\n",
    "ntall = np.floor(ywid/dxy)\n",
    "nfiles = (1077-970+1)\n",
    "filenums = np.linspace(f1,f2, nfiles)\n",
    "filenames =[whereami + path + 'allsky%0.4i.png' % i for i in filenums]\n",
    "\n",
    "leftoverx = (xwid-np.floor(xwid/dxy)*dxy)\n",
    "leftovery = (ywid -np.floor(ywid/dxy)*dxy)\n",
    "nimgx = np.floor(xwid/dxy)\n",
    "nimgy = np.floor(ywid/dxy)\n",
    "\n",
    "allimg = np.zeros([dxy, dxy, 3, nfiles, nimgx, nimgy])\n",
    "\n",
    "for i, f in enumerate(filenames):\n",
    "    data = misc.imread(f)\n",
    "    # some offsets\n",
    "    xoff = np.mod(i,leftoverx)\n",
    "    yoff = np.mod(i,leftovery)\n",
    "    for x in np.arange(nimgx):\n",
    "        for y in np.arange(nimgy):\n",
    "            allimg[:,:,:, i, x, y] = data[yoff+y*dxy:yoff+(y+1)*dxy,xoff+x*dxy:xoff+(x+1)*dxy, :]\n"
   ]
  },
  {
   "cell_type": "code",
   "execution_count": null,
   "metadata": {
    "collapsed": false
   },
   "outputs": [],
   "source": [
    "plt.imshow(allimg[:, :, :, 20, 20, 0].astype('uint8'), interpolation='none', clim=(0, 255))"
   ]
  },
  {
   "cell_type": "code",
   "execution_count": 38,
   "metadata": {
    "collapsed": false
   },
   "outputs": [
    {
     "name": "stdout",
     "output_type": "stream",
     "text": [
      "119.0\n"
     ]
    },
    {
     "data": {
      "image/png": "[encoded data removed]",
      "text/plain": [
       "<matplotlib.figure.Figure at 0x89d9933c8>"
      ]
     },
     "metadata": {},
     "output_type": "display_data"
    }
   ],
   "source": [
    "plt.hist(allimg[:, :, :, 20, 20, 0].reshape(32*32*3))\n",
    "print(np.median(allimg[:, :, :, 20, 20, 0]))"
   ]
  },
  {
   "cell_type": "code",
   "execution_count": 40,
   "metadata": {
    "collapsed": false
   },
   "outputs": [],
   "source": [
    "test = allimg[:, :, :, 0, 0, 0].astype('uint8')"
   ]
  },
  {
   "cell_type": "code",
   "execution_count": 13,
   "metadata": {
    "collapsed": false
   },
   "outputs": [],
   "source": [
    "misc.imsave('test.png', image[600:640, 2000:2040,  :])"
   ]
  }
 ],
 "metadata": {
  "anaconda-cloud": {},
  "kernelspec": {
   "display_name": "Python [Root]",
   "language": "python",
   "name": "Python [Root]"
  },
  "language_info": {
   "codemirror_mode": {
    "name": "ipython",
    "version": 3
   },
   "file_extension": ".py",
   "mimetype": "text/x-python",
   "name": "python",
   "nbconvert_exporter": "python",
   "pygments_lexer": "ipython3",
   "version": "3.5.2"
  }
 },
 "nbformat": 4,
 "nbformat_minor": 0
}
